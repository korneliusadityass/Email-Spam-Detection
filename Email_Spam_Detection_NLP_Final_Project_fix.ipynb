{
  "cells": [
    {
      "cell_type": "code",
      "execution_count": 1,
      "metadata": {
        "id": "wzUDOFY65KPb"
      },
      "outputs": [],
      "source": [
        "import numpy as np\n",
        "import pandas as pd\n",
        "import nltk\n",
        "import re\n",
        "from nltk.stem import PorterStemmer\n",
        "from nltk.tokenize import word_tokenize\n",
        "from nltk.corpus import stopwords\n",
        "from sklearn.model_selection import train_test_split\n",
        "from sklearn.feature_extraction.text import CountVectorizer\n",
        "from sklearn.naive_bayes import MultinomialNB\n",
        "from sklearn.metrics import accuracy_score\n",
        "from sklearn.metrics import confusion_matrix\n",
        "import matplotlib.pyplot as plt\n",
        "import seaborn as sns\n",
        "from nltk.stem import WordNetLemmatizer\n",
        "import itertools\n",
        "from wordcloud import WordCloud\n",
        "from sklearn.ensemble import RandomForestClassifier\n",
        "from sklearn import tree\n",
        "from sklearn.ensemble import AdaBoostClassifier\n",
        "from sklearn.neighbors import KNeighborsClassifier\n",
        "from sklearn.svm import SVC\n",
        "from sklearn.ensemble import BaggingClassifier\n",
        "from sklearn.tree import DecisionTreeClassifier"
      ]
    },
    {
      "cell_type": "code",
      "execution_count": 2,
      "metadata": {
        "id": "7ugUreQY5EER"
      },
      "outputs": [],
      "source": [
        "from google.colab import drive"
      ]
    },
    {
      "cell_type": "code",
      "execution_count": 3,
      "metadata": {
        "id": "aC1zG7rd5INq",
        "colab": {
          "base_uri": "https://localhost:8080/"
        },
        "outputId": "06453922-acbf-4f8d-b9f9-69f5118be1c5"
      },
      "outputs": [
        {
          "output_type": "stream",
          "name": "stdout",
          "text": [
            "Mounted at /content/drive/\n"
          ]
        }
      ],
      "source": [
        "drive.mount('/content/drive/')"
      ]
    },
    {
      "cell_type": "code",
      "execution_count": 4,
      "metadata": {
        "id": "CEcPqY945joy",
        "colab": {
          "base_uri": "https://localhost:8080/",
          "height": 206
        },
        "outputId": "b987c7c1-b4df-4735-e1f5-91ac58574851"
      },
      "outputs": [
        {
          "output_type": "execute_result",
          "data": {
            "text/plain": [
              "   label                                            subject  \\\n",
              "0      1                  Generic Cialis, branded quality@    \n",
              "1      0                             Typo in /debian/README   \n",
              "2      1                                   authentic viagra   \n",
              "3      1                               Nice talking with ya   \n",
              "4      1  or trembling; stomach cramps; trouble in sleep...   \n",
              "\n",
              "                          email_to  \\\n",
              "0        the00@speedy.uwaterloo.ca   \n",
              "1  debian-mirrors@lists.debian.org   \n",
              "2         <the00@plg.uwaterloo.ca>   \n",
              "3         opt4@speedy.uwaterloo.ca   \n",
              "4     ktwarwic@speedy.uwaterloo.ca   \n",
              "\n",
              "                                          email_from  \\\n",
              "0                 \"Tomas Jacobs\" <RickyAmes@aol.com>   \n",
              "1         Yan Morin <yan.morin@savoirfairelinux.com>   \n",
              "2  \"Sheila Crenshaw\" <7stocknews@tractionmarketin...   \n",
              "3       \"Stormy Dempsey\" <vqucsmdfgvsg@ruraltek.com>   \n",
              "4         \"Christi T. Jernigan\" <dcube@totalink.net>   \n",
              "\n",
              "                                             message  \n",
              "0  Content-Type: text/html;\\nContent-Transfer-Enc...  \n",
              "1  Hi, i've just updated from the gulus and I che...  \n",
              "2  Content-Type: text/plain;\\n\\tcharset=\"iso-8859...  \n",
              "3  Hey Billy, \\n\\nit was really fun going out the...  \n",
              "4  Content-Type: multipart/alternative;\\n        ...  "
            ],
            "text/html": [
              "\n",
              "\n",
              "  <div id=\"df-8cefe599-69fa-4f5e-8cc9-977f8a2ab29c\">\n",
              "    <div class=\"colab-df-container\">\n",
              "      <div>\n",
              "<style scoped>\n",
              "    .dataframe tbody tr th:only-of-type {\n",
              "        vertical-align: middle;\n",
              "    }\n",
              "\n",
              "    .dataframe tbody tr th {\n",
              "        vertical-align: top;\n",
              "    }\n",
              "\n",
              "    .dataframe thead th {\n",
              "        text-align: right;\n",
              "    }\n",
              "</style>\n",
              "<table border=\"1\" class=\"dataframe\">\n",
              "  <thead>\n",
              "    <tr style=\"text-align: right;\">\n",
              "      <th></th>\n",
              "      <th>label</th>\n",
              "      <th>subject</th>\n",
              "      <th>email_to</th>\n",
              "      <th>email_from</th>\n",
              "      <th>message</th>\n",
              "    </tr>\n",
              "  </thead>\n",
              "  <tbody>\n",
              "    <tr>\n",
              "      <th>0</th>\n",
              "      <td>1</td>\n",
              "      <td>Generic Cialis, branded quality@</td>\n",
              "      <td>the00@speedy.uwaterloo.ca</td>\n",
              "      <td>\"Tomas Jacobs\" &lt;RickyAmes@aol.com&gt;</td>\n",
              "      <td>Content-Type: text/html;\\nContent-Transfer-Enc...</td>\n",
              "    </tr>\n",
              "    <tr>\n",
              "      <th>1</th>\n",
              "      <td>0</td>\n",
              "      <td>Typo in /debian/README</td>\n",
              "      <td>debian-mirrors@lists.debian.org</td>\n",
              "      <td>Yan Morin &lt;yan.morin@savoirfairelinux.com&gt;</td>\n",
              "      <td>Hi, i've just updated from the gulus and I che...</td>\n",
              "    </tr>\n",
              "    <tr>\n",
              "      <th>2</th>\n",
              "      <td>1</td>\n",
              "      <td>authentic viagra</td>\n",
              "      <td>&lt;the00@plg.uwaterloo.ca&gt;</td>\n",
              "      <td>\"Sheila Crenshaw\" &lt;7stocknews@tractionmarketin...</td>\n",
              "      <td>Content-Type: text/plain;\\n\\tcharset=\"iso-8859...</td>\n",
              "    </tr>\n",
              "    <tr>\n",
              "      <th>3</th>\n",
              "      <td>1</td>\n",
              "      <td>Nice talking with ya</td>\n",
              "      <td>opt4@speedy.uwaterloo.ca</td>\n",
              "      <td>\"Stormy Dempsey\" &lt;vqucsmdfgvsg@ruraltek.com&gt;</td>\n",
              "      <td>Hey Billy, \\n\\nit was really fun going out the...</td>\n",
              "    </tr>\n",
              "    <tr>\n",
              "      <th>4</th>\n",
              "      <td>1</td>\n",
              "      <td>or trembling; stomach cramps; trouble in sleep...</td>\n",
              "      <td>ktwarwic@speedy.uwaterloo.ca</td>\n",
              "      <td>\"Christi T. Jernigan\" &lt;dcube@totalink.net&gt;</td>\n",
              "      <td>Content-Type: multipart/alternative;\\n        ...</td>\n",
              "    </tr>\n",
              "  </tbody>\n",
              "</table>\n",
              "</div>\n",
              "      <button class=\"colab-df-convert\" onclick=\"convertToInteractive('df-8cefe599-69fa-4f5e-8cc9-977f8a2ab29c')\"\n",
              "              title=\"Convert this dataframe to an interactive table.\"\n",
              "              style=\"display:none;\">\n",
              "\n",
              "  <svg xmlns=\"http://www.w3.org/2000/svg\" height=\"24px\"viewBox=\"0 0 24 24\"\n",
              "       width=\"24px\">\n",
              "    <path d=\"M0 0h24v24H0V0z\" fill=\"none\"/>\n",
              "    <path d=\"M18.56 5.44l.94 2.06.94-2.06 2.06-.94-2.06-.94-.94-2.06-.94 2.06-2.06.94zm-11 1L8.5 8.5l.94-2.06 2.06-.94-2.06-.94L8.5 2.5l-.94 2.06-2.06.94zm10 10l.94 2.06.94-2.06 2.06-.94-2.06-.94-.94-2.06-.94 2.06-2.06.94z\"/><path d=\"M17.41 7.96l-1.37-1.37c-.4-.4-.92-.59-1.43-.59-.52 0-1.04.2-1.43.59L10.3 9.45l-7.72 7.72c-.78.78-.78 2.05 0 2.83L4 21.41c.39.39.9.59 1.41.59.51 0 1.02-.2 1.41-.59l7.78-7.78 2.81-2.81c.8-.78.8-2.07 0-2.86zM5.41 20L4 18.59l7.72-7.72 1.47 1.35L5.41 20z\"/>\n",
              "  </svg>\n",
              "      </button>\n",
              "\n",
              "\n",
              "\n",
              "    <div id=\"df-e41abdd8-3e50-4fe4-9319-ddc5e6db095b\">\n",
              "      <button class=\"colab-df-quickchart\" onclick=\"quickchart('df-e41abdd8-3e50-4fe4-9319-ddc5e6db095b')\"\n",
              "              title=\"Suggest charts.\"\n",
              "              style=\"display:none;\">\n",
              "\n",
              "<svg xmlns=\"http://www.w3.org/2000/svg\" height=\"24px\"viewBox=\"0 0 24 24\"\n",
              "     width=\"24px\">\n",
              "    <g>\n",
              "        <path d=\"M19 3H5c-1.1 0-2 .9-2 2v14c0 1.1.9 2 2 2h14c1.1 0 2-.9 2-2V5c0-1.1-.9-2-2-2zM9 17H7v-7h2v7zm4 0h-2V7h2v10zm4 0h-2v-4h2v4z\"/>\n",
              "    </g>\n",
              "</svg>\n",
              "      </button>\n",
              "    </div>\n",
              "\n",
              "<style>\n",
              "  .colab-df-quickchart {\n",
              "    background-color: #E8F0FE;\n",
              "    border: none;\n",
              "    border-radius: 50%;\n",
              "    cursor: pointer;\n",
              "    display: none;\n",
              "    fill: #1967D2;\n",
              "    height: 32px;\n",
              "    padding: 0 0 0 0;\n",
              "    width: 32px;\n",
              "  }\n",
              "\n",
              "  .colab-df-quickchart:hover {\n",
              "    background-color: #E2EBFA;\n",
              "    box-shadow: 0px 1px 2px rgba(60, 64, 67, 0.3), 0px 1px 3px 1px rgba(60, 64, 67, 0.15);\n",
              "    fill: #174EA6;\n",
              "  }\n",
              "\n",
              "  [theme=dark] .colab-df-quickchart {\n",
              "    background-color: #3B4455;\n",
              "    fill: #D2E3FC;\n",
              "  }\n",
              "\n",
              "  [theme=dark] .colab-df-quickchart:hover {\n",
              "    background-color: #434B5C;\n",
              "    box-shadow: 0px 1px 3px 1px rgba(0, 0, 0, 0.15);\n",
              "    filter: drop-shadow(0px 1px 2px rgba(0, 0, 0, 0.3));\n",
              "    fill: #FFFFFF;\n",
              "  }\n",
              "</style>\n",
              "\n",
              "    <script>\n",
              "      async function quickchart(key) {\n",
              "        const containerElement = document.querySelector('#' + key);\n",
              "        const charts = await google.colab.kernel.invokeFunction(\n",
              "            'suggestCharts', [key], {});\n",
              "      }\n",
              "    </script>\n",
              "\n",
              "      <script>\n",
              "\n",
              "function displayQuickchartButton(domScope) {\n",
              "  let quickchartButtonEl =\n",
              "    domScope.querySelector('#df-e41abdd8-3e50-4fe4-9319-ddc5e6db095b button.colab-df-quickchart');\n",
              "  quickchartButtonEl.style.display =\n",
              "    google.colab.kernel.accessAllowed ? 'block' : 'none';\n",
              "}\n",
              "\n",
              "        displayQuickchartButton(document);\n",
              "      </script>\n",
              "      <style>\n",
              "    .colab-df-container {\n",
              "      display:flex;\n",
              "      flex-wrap:wrap;\n",
              "      gap: 12px;\n",
              "    }\n",
              "\n",
              "    .colab-df-convert {\n",
              "      background-color: #E8F0FE;\n",
              "      border: none;\n",
              "      border-radius: 50%;\n",
              "      cursor: pointer;\n",
              "      display: none;\n",
              "      fill: #1967D2;\n",
              "      height: 32px;\n",
              "      padding: 0 0 0 0;\n",
              "      width: 32px;\n",
              "    }\n",
              "\n",
              "    .colab-df-convert:hover {\n",
              "      background-color: #E2EBFA;\n",
              "      box-shadow: 0px 1px 2px rgba(60, 64, 67, 0.3), 0px 1px 3px 1px rgba(60, 64, 67, 0.15);\n",
              "      fill: #174EA6;\n",
              "    }\n",
              "\n",
              "    [theme=dark] .colab-df-convert {\n",
              "      background-color: #3B4455;\n",
              "      fill: #D2E3FC;\n",
              "    }\n",
              "\n",
              "    [theme=dark] .colab-df-convert:hover {\n",
              "      background-color: #434B5C;\n",
              "      box-shadow: 0px 1px 3px 1px rgba(0, 0, 0, 0.15);\n",
              "      filter: drop-shadow(0px 1px 2px rgba(0, 0, 0, 0.3));\n",
              "      fill: #FFFFFF;\n",
              "    }\n",
              "  </style>\n",
              "\n",
              "      <script>\n",
              "        const buttonEl =\n",
              "          document.querySelector('#df-8cefe599-69fa-4f5e-8cc9-977f8a2ab29c button.colab-df-convert');\n",
              "        buttonEl.style.display =\n",
              "          google.colab.kernel.accessAllowed ? 'block' : 'none';\n",
              "\n",
              "        async function convertToInteractive(key) {\n",
              "          const element = document.querySelector('#df-8cefe599-69fa-4f5e-8cc9-977f8a2ab29c');\n",
              "          const dataTable =\n",
              "            await google.colab.kernel.invokeFunction('convertToInteractive',\n",
              "                                                     [key], {});\n",
              "          if (!dataTable) return;\n",
              "\n",
              "          const docLinkHtml = 'Like what you see? Visit the ' +\n",
              "            '<a target=\"_blank\" href=https://colab.research.google.com/notebooks/data_table.ipynb>data table notebook</a>'\n",
              "            + ' to learn more about interactive tables.';\n",
              "          element.innerHTML = '';\n",
              "          dataTable['output_type'] = 'display_data';\n",
              "          await google.colab.output.renderOutput(dataTable, element);\n",
              "          const docLink = document.createElement('div');\n",
              "          docLink.innerHTML = docLinkHtml;\n",
              "          element.appendChild(docLink);\n",
              "        }\n",
              "      </script>\n",
              "    </div>\n",
              "  </div>\n"
            ]
          },
          "metadata": {},
          "execution_count": 4
        }
      ],
      "source": [
        "df = pd.read_csv('/content/drive/MyDrive/NLP/processed_data.csv')\n",
        "df.head()"
      ]
    },
    {
      "cell_type": "code",
      "execution_count": 5,
      "metadata": {
        "colab": {
          "base_uri": "https://localhost:8080/"
        },
        "id": "iBOf0R4j5sxD",
        "outputId": "0bd2d73c-c37f-46a4-ae34-4d2e3c53a69a"
      },
      "outputs": [
        {
          "output_type": "execute_result",
          "data": {
            "text/plain": [
              "(75419, 5)"
            ]
          },
          "metadata": {},
          "execution_count": 5
        }
      ],
      "source": [
        "df.shape"
      ]
    },
    {
      "cell_type": "code",
      "execution_count": 6,
      "metadata": {
        "colab": {
          "base_uri": "https://localhost:8080/",
          "height": 206
        },
        "id": "2UF_qcq-5yAS",
        "outputId": "54f15fc3-0f46-4322-ea4f-de22a4de0951"
      },
      "outputs": [
        {
          "output_type": "execute_result",
          "data": {
            "text/plain": [
              "   label                                            message\n",
              "0      1  Content-Type: text/html;\\nContent-Transfer-Enc...\n",
              "1      0  Hi, i've just updated from the gulus and I che...\n",
              "2      1  Content-Type: text/plain;\\n\\tcharset=\"iso-8859...\n",
              "3      1  Hey Billy, \\n\\nit was really fun going out the...\n",
              "4      1  Content-Type: multipart/alternative;\\n        ..."
            ],
            "text/html": [
              "\n",
              "\n",
              "  <div id=\"df-b8588d7e-aafe-463c-9577-fd5c5f8cfcbd\">\n",
              "    <div class=\"colab-df-container\">\n",
              "      <div>\n",
              "<style scoped>\n",
              "    .dataframe tbody tr th:only-of-type {\n",
              "        vertical-align: middle;\n",
              "    }\n",
              "\n",
              "    .dataframe tbody tr th {\n",
              "        vertical-align: top;\n",
              "    }\n",
              "\n",
              "    .dataframe thead th {\n",
              "        text-align: right;\n",
              "    }\n",
              "</style>\n",
              "<table border=\"1\" class=\"dataframe\">\n",
              "  <thead>\n",
              "    <tr style=\"text-align: right;\">\n",
              "      <th></th>\n",
              "      <th>label</th>\n",
              "      <th>message</th>\n",
              "    </tr>\n",
              "  </thead>\n",
              "  <tbody>\n",
              "    <tr>\n",
              "      <th>0</th>\n",
              "      <td>1</td>\n",
              "      <td>Content-Type: text/html;\\nContent-Transfer-Enc...</td>\n",
              "    </tr>\n",
              "    <tr>\n",
              "      <th>1</th>\n",
              "      <td>0</td>\n",
              "      <td>Hi, i've just updated from the gulus and I che...</td>\n",
              "    </tr>\n",
              "    <tr>\n",
              "      <th>2</th>\n",
              "      <td>1</td>\n",
              "      <td>Content-Type: text/plain;\\n\\tcharset=\"iso-8859...</td>\n",
              "    </tr>\n",
              "    <tr>\n",
              "      <th>3</th>\n",
              "      <td>1</td>\n",
              "      <td>Hey Billy, \\n\\nit was really fun going out the...</td>\n",
              "    </tr>\n",
              "    <tr>\n",
              "      <th>4</th>\n",
              "      <td>1</td>\n",
              "      <td>Content-Type: multipart/alternative;\\n        ...</td>\n",
              "    </tr>\n",
              "  </tbody>\n",
              "</table>\n",
              "</div>\n",
              "      <button class=\"colab-df-convert\" onclick=\"convertToInteractive('df-b8588d7e-aafe-463c-9577-fd5c5f8cfcbd')\"\n",
              "              title=\"Convert this dataframe to an interactive table.\"\n",
              "              style=\"display:none;\">\n",
              "\n",
              "  <svg xmlns=\"http://www.w3.org/2000/svg\" height=\"24px\"viewBox=\"0 0 24 24\"\n",
              "       width=\"24px\">\n",
              "    <path d=\"M0 0h24v24H0V0z\" fill=\"none\"/>\n",
              "    <path d=\"M18.56 5.44l.94 2.06.94-2.06 2.06-.94-2.06-.94-.94-2.06-.94 2.06-2.06.94zm-11 1L8.5 8.5l.94-2.06 2.06-.94-2.06-.94L8.5 2.5l-.94 2.06-2.06.94zm10 10l.94 2.06.94-2.06 2.06-.94-2.06-.94-.94-2.06-.94 2.06-2.06.94z\"/><path d=\"M17.41 7.96l-1.37-1.37c-.4-.4-.92-.59-1.43-.59-.52 0-1.04.2-1.43.59L10.3 9.45l-7.72 7.72c-.78.78-.78 2.05 0 2.83L4 21.41c.39.39.9.59 1.41.59.51 0 1.02-.2 1.41-.59l7.78-7.78 2.81-2.81c.8-.78.8-2.07 0-2.86zM5.41 20L4 18.59l7.72-7.72 1.47 1.35L5.41 20z\"/>\n",
              "  </svg>\n",
              "      </button>\n",
              "\n",
              "\n",
              "\n",
              "    <div id=\"df-8d821f71-6bd0-4904-88c5-63a2f72ab1f5\">\n",
              "      <button class=\"colab-df-quickchart\" onclick=\"quickchart('df-8d821f71-6bd0-4904-88c5-63a2f72ab1f5')\"\n",
              "              title=\"Suggest charts.\"\n",
              "              style=\"display:none;\">\n",
              "\n",
              "<svg xmlns=\"http://www.w3.org/2000/svg\" height=\"24px\"viewBox=\"0 0 24 24\"\n",
              "     width=\"24px\">\n",
              "    <g>\n",
              "        <path d=\"M19 3H5c-1.1 0-2 .9-2 2v14c0 1.1.9 2 2 2h14c1.1 0 2-.9 2-2V5c0-1.1-.9-2-2-2zM9 17H7v-7h2v7zm4 0h-2V7h2v10zm4 0h-2v-4h2v4z\"/>\n",
              "    </g>\n",
              "</svg>\n",
              "      </button>\n",
              "    </div>\n",
              "\n",
              "<style>\n",
              "  .colab-df-quickchart {\n",
              "    background-color: #E8F0FE;\n",
              "    border: none;\n",
              "    border-radius: 50%;\n",
              "    cursor: pointer;\n",
              "    display: none;\n",
              "    fill: #1967D2;\n",
              "    height: 32px;\n",
              "    padding: 0 0 0 0;\n",
              "    width: 32px;\n",
              "  }\n",
              "\n",
              "  .colab-df-quickchart:hover {\n",
              "    background-color: #E2EBFA;\n",
              "    box-shadow: 0px 1px 2px rgba(60, 64, 67, 0.3), 0px 1px 3px 1px rgba(60, 64, 67, 0.15);\n",
              "    fill: #174EA6;\n",
              "  }\n",
              "\n",
              "  [theme=dark] .colab-df-quickchart {\n",
              "    background-color: #3B4455;\n",
              "    fill: #D2E3FC;\n",
              "  }\n",
              "\n",
              "  [theme=dark] .colab-df-quickchart:hover {\n",
              "    background-color: #434B5C;\n",
              "    box-shadow: 0px 1px 3px 1px rgba(0, 0, 0, 0.15);\n",
              "    filter: drop-shadow(0px 1px 2px rgba(0, 0, 0, 0.3));\n",
              "    fill: #FFFFFF;\n",
              "  }\n",
              "</style>\n",
              "\n",
              "    <script>\n",
              "      async function quickchart(key) {\n",
              "        const containerElement = document.querySelector('#' + key);\n",
              "        const charts = await google.colab.kernel.invokeFunction(\n",
              "            'suggestCharts', [key], {});\n",
              "      }\n",
              "    </script>\n",
              "\n",
              "      <script>\n",
              "\n",
              "function displayQuickchartButton(domScope) {\n",
              "  let quickchartButtonEl =\n",
              "    domScope.querySelector('#df-8d821f71-6bd0-4904-88c5-63a2f72ab1f5 button.colab-df-quickchart');\n",
              "  quickchartButtonEl.style.display =\n",
              "    google.colab.kernel.accessAllowed ? 'block' : 'none';\n",
              "}\n",
              "\n",
              "        displayQuickchartButton(document);\n",
              "      </script>\n",
              "      <style>\n",
              "    .colab-df-container {\n",
              "      display:flex;\n",
              "      flex-wrap:wrap;\n",
              "      gap: 12px;\n",
              "    }\n",
              "\n",
              "    .colab-df-convert {\n",
              "      background-color: #E8F0FE;\n",
              "      border: none;\n",
              "      border-radius: 50%;\n",
              "      cursor: pointer;\n",
              "      display: none;\n",
              "      fill: #1967D2;\n",
              "      height: 32px;\n",
              "      padding: 0 0 0 0;\n",
              "      width: 32px;\n",
              "    }\n",
              "\n",
              "    .colab-df-convert:hover {\n",
              "      background-color: #E2EBFA;\n",
              "      box-shadow: 0px 1px 2px rgba(60, 64, 67, 0.3), 0px 1px 3px 1px rgba(60, 64, 67, 0.15);\n",
              "      fill: #174EA6;\n",
              "    }\n",
              "\n",
              "    [theme=dark] .colab-df-convert {\n",
              "      background-color: #3B4455;\n",
              "      fill: #D2E3FC;\n",
              "    }\n",
              "\n",
              "    [theme=dark] .colab-df-convert:hover {\n",
              "      background-color: #434B5C;\n",
              "      box-shadow: 0px 1px 3px 1px rgba(0, 0, 0, 0.15);\n",
              "      filter: drop-shadow(0px 1px 2px rgba(0, 0, 0, 0.3));\n",
              "      fill: #FFFFFF;\n",
              "    }\n",
              "  </style>\n",
              "\n",
              "      <script>\n",
              "        const buttonEl =\n",
              "          document.querySelector('#df-b8588d7e-aafe-463c-9577-fd5c5f8cfcbd button.colab-df-convert');\n",
              "        buttonEl.style.display =\n",
              "          google.colab.kernel.accessAllowed ? 'block' : 'none';\n",
              "\n",
              "        async function convertToInteractive(key) {\n",
              "          const element = document.querySelector('#df-b8588d7e-aafe-463c-9577-fd5c5f8cfcbd');\n",
              "          const dataTable =\n",
              "            await google.colab.kernel.invokeFunction('convertToInteractive',\n",
              "                                                     [key], {});\n",
              "          if (!dataTable) return;\n",
              "\n",
              "          const docLinkHtml = 'Like what you see? Visit the ' +\n",
              "            '<a target=\"_blank\" href=https://colab.research.google.com/notebooks/data_table.ipynb>data table notebook</a>'\n",
              "            + ' to learn more about interactive tables.';\n",
              "          element.innerHTML = '';\n",
              "          dataTable['output_type'] = 'display_data';\n",
              "          await google.colab.output.renderOutput(dataTable, element);\n",
              "          const docLink = document.createElement('div');\n",
              "          docLink.innerHTML = docLinkHtml;\n",
              "          element.appendChild(docLink);\n",
              "        }\n",
              "      </script>\n",
              "    </div>\n",
              "  </div>\n"
            ]
          },
          "metadata": {},
          "execution_count": 6
        }
      ],
      "source": [
        "df.drop(['subject', 'email_to', 'email_from'], axis=1, inplace=True)\n",
        "df.head()"
      ]
    },
    {
      "cell_type": "code",
      "execution_count": 7,
      "metadata": {
        "colab": {
          "base_uri": "https://localhost:8080/"
        },
        "id": "uBjMhPnT7cHs",
        "outputId": "e4e75810-a3fd-47cd-e2a0-e0f4148b7034"
      },
      "outputs": [
        {
          "output_type": "execute_result",
          "data": {
            "text/plain": [
              "(75419, 2)"
            ]
          },
          "metadata": {},
          "execution_count": 7
        }
      ],
      "source": [
        "df.shape"
      ]
    },
    {
      "cell_type": "code",
      "execution_count": 8,
      "metadata": {
        "colab": {
          "base_uri": "https://localhost:8080/"
        },
        "id": "OCiFHLWO8UeD",
        "outputId": "8ac27fca-6767-4893-8b2d-4494e9bd32ab"
      },
      "outputs": [
        {
          "output_type": "stream",
          "name": "stdout",
          "text": [
            "<class 'pandas.core.frame.DataFrame'>\n",
            "RangeIndex: 75419 entries, 0 to 75418\n",
            "Data columns (total 2 columns):\n",
            " #   Column   Non-Null Count  Dtype \n",
            "---  ------   --------------  ----- \n",
            " 0   label    75419 non-null  int64 \n",
            " 1   message  73932 non-null  object\n",
            "dtypes: int64(1), object(1)\n",
            "memory usage: 1.2+ MB\n"
          ]
        }
      ],
      "source": [
        "df.info()"
      ]
    },
    {
      "cell_type": "code",
      "execution_count": 9,
      "metadata": {
        "colab": {
          "base_uri": "https://localhost:8080/"
        },
        "id": "cggA9L2r8bHi",
        "outputId": "e17dcdb8-9510-41aa-cdea-f925ec80020d"
      },
      "outputs": [
        {
          "output_type": "execute_result",
          "data": {
            "text/plain": [
              "1487"
            ]
          },
          "metadata": {},
          "execution_count": 9
        }
      ],
      "source": [
        "# re-checking the presence of null value in column 'message'\n",
        "df['message'].isnull().sum()"
      ]
    },
    {
      "cell_type": "code",
      "execution_count": 10,
      "metadata": {
        "colab": {
          "base_uri": "https://localhost:8080/"
        },
        "id": "SnLAVBKZ8d0y",
        "outputId": "601a6bc3-c420-46f7-aac4-d3a7ab6b2e89"
      },
      "outputs": [
        {
          "output_type": "execute_result",
          "data": {
            "text/plain": [
              "0"
            ]
          },
          "metadata": {},
          "execution_count": 10
        }
      ],
      "source": [
        "# filling the null value using fillna() method\n",
        "df['message'].fillna(method = 'ffill', inplace = True)\n",
        "df['message'].isnull().sum()"
      ]
    },
    {
      "cell_type": "code",
      "execution_count": 11,
      "metadata": {
        "colab": {
          "base_uri": "https://localhost:8080/",
          "height": 290
        },
        "id": "F6jkrtnq9Rqb",
        "outputId": "c0caaad5-c824-49a6-e114-62b5534ae523"
      },
      "outputs": [
        {
          "output_type": "display_data",
          "data": {
            "text/plain": [
              "<Figure size 300x300 with 1 Axes>"
            ],
            "image/png": "[encoded data removed]"
          },
          "metadata": {}
        }
      ],
      "source": [
        "plt.figure(figsize=(3,3))\n",
        "spam_ham = pd.value_counts(df['label'],sort = True)\n",
        "spam_ham.plot(kind = 'pie')\n",
        "plt.title('SPAM (1) vs HAM (0)')\n",
        "plt.show()"
      ]
    },
    {
      "cell_type": "markdown",
      "metadata": {
        "id": "amCT-gWiPZMF"
      },
      "source": [
        "# ***Data Preprocessing***"
      ]
    },
    {
      "cell_type": "code",
      "execution_count": 12,
      "metadata": {
        "colab": {
          "base_uri": "https://localhost:8080/"
        },
        "id": "P-6CyIDyIHZ9",
        "outputId": "3b39d7b1-b1c1-4857-f084-1004b3de6697"
      },
      "outputs": [
        {
          "output_type": "stream",
          "name": "stderr",
          "text": [
            "[nltk_data] Downloading package stopwords to /root/nltk_data...\n",
            "[nltk_data]   Unzipping corpora/stopwords.zip.\n",
            "[nltk_data] Downloading package averaged_perceptron_tagger to\n",
            "[nltk_data]     /root/nltk_data...\n",
            "[nltk_data]   Unzipping taggers/averaged_perceptron_tagger.zip.\n",
            "[nltk_data] Downloading package maxent_ne_chunker to\n",
            "[nltk_data]     /root/nltk_data...\n",
            "[nltk_data]   Unzipping chunkers/maxent_ne_chunker.zip.\n",
            "[nltk_data] Downloading package words to /root/nltk_data...\n",
            "[nltk_data]   Unzipping corpora/words.zip.\n",
            "[nltk_data] Downloading package wordnet to /root/nltk_data...\n"
          ]
        },
        {
          "output_type": "execute_result",
          "data": {
            "text/plain": [
              "True"
            ]
          },
          "metadata": {},
          "execution_count": 12
        }
      ],
      "source": [
        "nltk.download('stopwords')\n",
        "nltk.download('averaged_perceptron_tagger')\n",
        "nltk.download('maxent_ne_chunker')\n",
        "nltk.download('words')\n",
        "nltk.download('wordnet')"
      ]
    },
    {
      "cell_type": "code",
      "execution_count": 13,
      "metadata": {
        "id": "UtvP4JFTIHZ9"
      },
      "outputs": [],
      "source": [
        "import spacy\n",
        "nlp = spacy.load(\"en_core_web_sm\")"
      ]
    },
    {
      "cell_type": "code",
      "execution_count": 14,
      "metadata": {
        "id": "UqXwaUCEIHZ9"
      },
      "outputs": [],
      "source": [
        "from nltk.tokenize import TweetTokenizer\n",
        "tk = TweetTokenizer()"
      ]
    },
    {
      "cell_type": "code",
      "execution_count": 15,
      "metadata": {
        "id": "dPaTYqI_IHZ-"
      },
      "outputs": [],
      "source": [
        "stop_words = stopwords.words('english')"
      ]
    },
    {
      "cell_type": "code",
      "execution_count": 16,
      "metadata": {
        "id": "7bpl2UaHIHZ-"
      },
      "outputs": [],
      "source": [
        "lemmatizer = WordNetLemmatizer()"
      ]
    },
    {
      "cell_type": "code",
      "execution_count": 17,
      "metadata": {
        "id": "AzbODl-sApUK",
        "colab": {
          "base_uri": "https://localhost:8080/"
        },
        "outputId": "3f162fe8-8e02-40d1-f187-d9b53a1be5d4"
      },
      "outputs": [
        {
          "output_type": "stream",
          "name": "stderr",
          "text": [
            "[nltk_data] Downloading package punkt to /root/nltk_data...\n",
            "[nltk_data]   Unzipping tokenizers/punkt.zip.\n"
          ]
        }
      ],
      "source": [
        "import re\n",
        "import nltk\n",
        "nltk.download('punkt')\n",
        "\n",
        "\n",
        "# Preprocessing with POStagger\n",
        "def preprocessing_postag(text):\n",
        "    token = ''\n",
        "\n",
        "    # Tokenize text\n",
        "    token = re.findall(r'\\w+', text.lower())\n",
        "\n",
        "    # Stopword Removal and Lemmatizing\n",
        "    token = [word.lower() for word in token if word.lower() not in stop_words]\n",
        "    token = [nltk.stem.WordNetLemmatizer().lemmatize(word) for word in token]\n",
        "\n",
        "    # Tagging words\n",
        "    # If there are no tokens (all removed by stopwords)\n",
        "    if len(token) == 0:\n",
        "        return 'UNK_NN'\n",
        "    # If there are tokens\n",
        "    else:\n",
        "        token_with_tag = nltk.pos_tag(token)\n",
        "\n",
        "        return ' '.join([tok + '_' + tag for tok, tag in token_with_tag])\n",
        "\n",
        "# Preprocessing with NER\n",
        "def preprocessing_ner(text):\n",
        "    token = ''\n",
        "\n",
        "    # Tokenize text\n",
        "    token = re.findall(r'\\w+', text.lower())\n",
        "\n",
        "    # Stopword Removal and Lemmatizing\n",
        "    token = [word.lower() for word in token if word.lower() not in stop_words]\n",
        "    token = [nltk.stem.WordNetLemmatizer().lemmatize(word) for word in token]\n",
        "\n",
        "    # Tagging words\n",
        "    # If there are no tokens (all removed by stopwords)\n",
        "    if len(token) == 0:\n",
        "        return 'UNK'\n",
        "    # If there are tokens\n",
        "    else:\n",
        "        doc = nlp(' '.join(token))\n",
        "        ner_result = [(X.text, X.label_) for X in doc.ents]\n",
        "\n",
        "        d_token_ner = {}\n",
        "        for k, v in ner_result:\n",
        "            for t in tk.tokenize(k):\n",
        "                d_token_ner[t] = '_' + v\n",
        "\n",
        "        return ' '.join([tok + d_token_ner.get(tok, \"\") for tok in token])\n",
        "\n",
        "#Preprocessing with NER and Posttagging\n",
        "def preprocessing_nernpos(text):\n",
        "    token = ''\n",
        "\n",
        "    # Tokenize text\n",
        "    token = re.findall(r'\\w+', text.lower())\n",
        "\n",
        "    # Stopword Removal and Lemmatizing\n",
        "    stop_words = nltk.corpus.stopwords.words('english')\n",
        "    token = [word.lower() for word in token if word.lower() not in stop_words]\n",
        "    token = [nltk.stem.WordNetLemmatizer().lemmatize(word) for word in token]\n",
        "\n",
        "    # If there are no tokens (all removed by stopwords)\n",
        "    if len(token) == 0:\n",
        "        return 'UNK'\n",
        "\n",
        "    # NER and POS tagging\n",
        "    doc = nlp(' '.join(token))\n",
        "    ner_result = [(X.text, X.label_) for X in doc.ents]\n",
        "\n",
        "    d_token_ner = {}\n",
        "    for k, v in ner_result:\n",
        "        for t in word_tokenize(k):\n",
        "            d_token_ner[t] = '_' + v\n",
        "\n",
        "    token_with_ner_pos = [tok + d_token_ner.get(tok, \"\") for tok in token]\n",
        "\n",
        "    return ' '.join(token_with_ner_pos)"
      ]
    },
    {
      "cell_type": "markdown",
      "metadata": {
        "id": "_cX6t_QbxFaN"
      },
      "source": [
        "# Bag of Words Model"
      ]
    },
    {
      "cell_type": "markdown",
      "metadata": {
        "id": "BpAraoYEIHZ-"
      },
      "source": [
        "WITH POST TAG + WITHOUT TFIDF"
      ]
    },
    {
      "cell_type": "code",
      "execution_count": null,
      "metadata": {
        "id": "PrpFSk5T_PNi"
      },
      "outputs": [],
      "source": [
        "# from sklearn.feature_extraction.text import CountVectorizer"
      ]
    },
    {
      "cell_type": "code",
      "execution_count": null,
      "metadata": {
        "id": "A6XgbUTlIHZ_"
      },
      "outputs": [],
      "source": [
        "# vectorizer = CountVectorizer(ngram_range=(1,1),  max_df = 1000, min_df=100, preprocessor=preprocessing_postag)\n",
        "# X = vectorizer.fit_transform(df['message'])\n",
        "# y = df['label'].values"
      ]
    },
    {
      "cell_type": "markdown",
      "metadata": {
        "id": "MIS6hJV9IHZ_"
      },
      "source": [
        "WITH POST TAG + TFIDF"
      ]
    },
    {
      "cell_type": "code",
      "execution_count": 18,
      "metadata": {
        "id": "UuycIfuGIHZ_"
      },
      "outputs": [],
      "source": [
        "from sklearn.feature_extraction.text import TfidfVectorizer"
      ]
    },
    {
      "cell_type": "code",
      "execution_count": 19,
      "metadata": {
        "id": "DJnuKZ7KIHZ_"
      },
      "outputs": [],
      "source": [
        "vectorizer = TfidfVectorizer(ngram_range=(1,1),  max_df = 1000, min_df=100, preprocessor=preprocessing_postag)\n",
        "X = vectorizer.fit_transform(df['message'])\n",
        "y = df['label'].values"
      ]
    },
    {
      "cell_type": "markdown",
      "metadata": {
        "id": "NOsAIn16IHZ_"
      },
      "source": [
        "WITH NER + WITH POST TAG + WITHOUT TFIDF"
      ]
    },
    {
      "cell_type": "code",
      "execution_count": null,
      "metadata": {
        "id": "Lhr83QuoIHZ_"
      },
      "outputs": [],
      "source": [
        "# from sklearn.feature_extraction.text import CountVectorizer"
      ]
    },
    {
      "cell_type": "code",
      "execution_count": null,
      "metadata": {
        "id": "WxAFuaY9IHZ_"
      },
      "outputs": [],
      "source": [
        "# vectorizer = CountVectorizer(ngram_range=(1,1), max_df = 1000, min_df=100, preprocessor=preprocessing_nernpos)\n",
        "# X = vectorizer.fit_transform(df['message'])\n",
        "# y = df['label'].values"
      ]
    },
    {
      "cell_type": "markdown",
      "metadata": {
        "id": "TU-j_AnHIHZ_"
      },
      "source": [
        "WITH NER + WITH POST TAG + WITH TFIDF"
      ]
    },
    {
      "cell_type": "code",
      "execution_count": null,
      "metadata": {
        "id": "pjrkJws5IHZ_"
      },
      "outputs": [],
      "source": [
        "# from sklearn.feature_extraction.text import TfidfVectorizer"
      ]
    },
    {
      "cell_type": "code",
      "execution_count": null,
      "metadata": {
        "id": "zaAUo-qPIHZ_"
      },
      "outputs": [],
      "source": [
        "# vectorizer = TfidfVectorizer(ngram_range=(1,1), max_df = 1000, min_df= 100, preprocessor=preprocessing_nernpos)\n",
        "# X = vectorizer.fit_transform(df['message'])\n",
        "# y = df['label'].values"
      ]
    },
    {
      "cell_type": "markdown",
      "metadata": {
        "id": "In4I0sW_B92g"
      },
      "source": [
        "# Splitting the Data"
      ]
    },
    {
      "cell_type": "code",
      "execution_count": 20,
      "metadata": {
        "id": "NLh0rPUqByOq"
      },
      "outputs": [],
      "source": [
        "X_train, X_test, y_train, y_test = train_test_split(X, y, test_size = 0.3, random_state = 45)"
      ]
    },
    {
      "cell_type": "markdown",
      "metadata": {
        "id": "kk9TBgftHTnL"
      },
      "source": [
        "# Using SVM"
      ]
    },
    {
      "cell_type": "code",
      "execution_count": null,
      "metadata": {
        "id": "R5ik2KlZHWh1"
      },
      "outputs": [],
      "source": [
        "clf = SVC(kernel='rbf', probability=False, tol= 0.1)\n",
        "clf = clf.fit(X_train, y_train)"
      ]
    },
    {
      "cell_type": "code",
      "execution_count": null,
      "metadata": {
        "colab": {
          "base_uri": "https://localhost:8080/"
        },
        "id": "DusRRMh9Hldj",
        "outputId": "76bcd598-bf4f-4206-f3ba-e1cacd371f50"
      },
      "outputs": [
        {
          "output_type": "stream",
          "name": "stdout",
          "text": [
            "              precision    recall  f1-score   support\n",
            "\n",
            "           0       0.96      0.84      0.90      7543\n",
            "           1       0.93      0.98      0.95     15083\n",
            "\n",
            "    accuracy                           0.94     22626\n",
            "   macro avg       0.94      0.91      0.93     22626\n",
            "weighted avg       0.94      0.94      0.94     22626\n",
            "\n"
          ]
        }
      ],
      "source": [
        "from sklearn.metrics import classification_report\n",
        "y_pred_SVC = clf.predict(X_test)\n",
        "print(classification_report(y_test, y_pred_SVC))"
      ]
    },
    {
      "cell_type": "code",
      "execution_count": null,
      "metadata": {
        "colab": {
          "base_uri": "https://localhost:8080/"
        },
        "id": "7_UUwF2PVBd8",
        "outputId": "7b0c78a3-ee6d-46a4-ac97-d8971e098035"
      },
      "outputs": [
        {
          "output_type": "stream",
          "name": "stdout",
          "text": [
            "Precision = 0.9443367393663595\n",
            "Recall = 0.9137925916825129\n",
            "F1-score = 0.9267205845659761\n"
          ]
        }
      ],
      "source": [
        "from sklearn.metrics import precision_recall_fscore_support\n",
        "precision, recall, fscore, support = precision_recall_fscore_support(y_test, y_pred_SVC, average='macro')\n",
        "print(\"Precision =\", precision)\n",
        "print(\"Recall =\", recall)\n",
        "print(\"F1-score =\", fscore)"
      ]
    },
    {
      "cell_type": "code",
      "execution_count": null,
      "metadata": {
        "colab": {
          "base_uri": "https://localhost:8080/"
        },
        "id": "QSZmkbp028TW",
        "outputId": "cc290188-e43e-4c17-9fff-cd3f0fc92bc0"
      },
      "outputs": [
        {
          "output_type": "stream",
          "name": "stdout",
          "text": [
            "Accuracy model SVM 93.70 %\n"
          ]
        }
      ],
      "source": [
        "print('Accuracy model SVM %0.2f' % (accuracy_score(y_test, y_pred_SVC)*100), '%')"
      ]
    },
    {
      "cell_type": "markdown",
      "metadata": {
        "id": "1rplrIle-Wzf"
      },
      "source": [
        "Note accuracy:\n",
        "1. With Post Tagging + Tf-Idf = 95.40%\n",
        "2. Without Post Tagging + Tf-idf = 98.48%\n",
        "3. With Post Tagging + With NER + tanpa Tf-Idf = 93.72%\n",
        "4. With Post Tagging + With NER + Tf-Idf = 98.34%"
      ]
    },
    {
      "cell_type": "markdown",
      "metadata": {
        "id": "R--DXf9VIM4y"
      },
      "source": [
        "# Using KNN"
      ]
    },
    {
      "cell_type": "code",
      "execution_count": null,
      "metadata": {
        "id": "stoWO-VOIPjC"
      },
      "outputs": [],
      "source": [
        "clf = KNeighborsClassifier(n_neighbors=7)\n",
        "clf = clf.fit(X_train, y_train)"
      ]
    },
    {
      "cell_type": "code",
      "execution_count": null,
      "metadata": {
        "id": "cGK3T36EIS-N",
        "colab": {
          "base_uri": "https://localhost:8080/"
        },
        "outputId": "0bd8036a-c79a-4b6d-9859-d0a0309f7bca"
      },
      "outputs": [
        {
          "output_type": "stream",
          "name": "stdout",
          "text": [
            "              precision    recall  f1-score   support\n",
            "\n",
            "           0       0.93      0.74      0.82      7543\n",
            "           1       0.88      0.97      0.92     15083\n",
            "\n",
            "    accuracy                           0.89     22626\n",
            "   macro avg       0.90      0.86      0.87     22626\n",
            "weighted avg       0.90      0.89      0.89     22626\n",
            "\n"
          ]
        }
      ],
      "source": [
        "from sklearn.metrics import classification_report\n",
        "y_pred_KNN = clf.predict(X_test)\n",
        "print(classification_report(y_test, y_pred_KNN))"
      ]
    },
    {
      "cell_type": "code",
      "execution_count": null,
      "metadata": {
        "id": "UuKcDnQNIW8L",
        "colab": {
          "base_uri": "https://localhost:8080/"
        },
        "outputId": "fc53c01b-bd30-4918-a483-f308c2a1ae59"
      },
      "outputs": [
        {
          "output_type": "stream",
          "name": "stdout",
          "text": [
            "Precision = 0.9044490082789955\n",
            "recall = 0.8569173504030274\n",
            "fscore = 0.8747144047622941\n"
          ]
        }
      ],
      "source": [
        "from sklearn.metrics import precision_recall_fscore_support\n",
        "precision, recall, fscore, support = precision_recall_fscore_support(y_test, y_pred_KNN, average='macro')\n",
        "print(\"Precision =\", precision)\n",
        "print(\"recall =\", recall)\n",
        "print(\"fscore =\", fscore)"
      ]
    },
    {
      "cell_type": "code",
      "execution_count": null,
      "metadata": {
        "id": "b2yl4WVYpuEY",
        "colab": {
          "base_uri": "https://localhost:8080/"
        },
        "outputId": "5ba47367-a1ce-4b6c-c03c-a74ed9956e0e"
      },
      "outputs": [
        {
          "output_type": "stream",
          "name": "stdout",
          "text": [
            "Accuracy model KNN 89.46 %\n"
          ]
        }
      ],
      "source": [
        "print('Accuracy model KNN %0.2f' % (accuracy_score(y_test, y_pred_KNN)*100), '%')"
      ]
    },
    {
      "cell_type": "markdown",
      "metadata": {
        "id": "1jXn8N5J_VXD"
      },
      "source": [
        "Note accuracy:\n",
        "1. With Post Tagging + Tf-Idf = 95.81%\n",
        "2. Without Post Tagging + Tf-idf = 81.86%\n",
        "3. With Post Tagging + With NER + tanpa Tf-Idf = 90.82%\n",
        "4. With Post Tagging + With NER + Tf-Idf = 83.87%"
      ]
    },
    {
      "cell_type": "markdown",
      "metadata": {
        "id": "B3B4lQqsHEqZ"
      },
      "source": [
        "# Using Naive Bayes"
      ]
    },
    {
      "cell_type": "code",
      "execution_count": null,
      "metadata": {
        "id": "of3W8v7WFN0R",
        "colab": {
          "base_uri": "https://localhost:8080/",
          "height": 74
        },
        "outputId": "fcd41192-867e-4462-e311-4fca11b9e290"
      },
      "outputs": [
        {
          "output_type": "execute_result",
          "data": {
            "text/plain": [
              "MultinomialNB(alpha=0.01)"
            ],
            "text/html": [
              "<style>#sk-container-id-1 {color: black;background-color: white;}#sk-container-id-1 pre{padding: 0;}#sk-container-id-1 div.sk-toggleable {background-color: white;}#sk-container-id-1 label.sk-toggleable__label {cursor: pointer;display: block;width: 100%;margin-bottom: 0;padding: 0.3em;box-sizing: border-box;text-align: center;}#sk-container-id-1 label.sk-toggleable__label-arrow:before {content: \"▸\";float: left;margin-right: 0.25em;color: #696969;}#sk-container-id-1 label.sk-toggleable__label-arrow:hover:before {color: black;}#sk-container-id-1 div.sk-estimator:hover label.sk-toggleable__label-arrow:before {color: black;}#sk-container-id-1 div.sk-toggleable__content {max-height: 0;max-width: 0;overflow: hidden;text-align: left;background-color: #f0f8ff;}#sk-container-id-1 div.sk-toggleable__content pre {margin: 0.2em;color: black;border-radius: 0.25em;background-color: #f0f8ff;}#sk-container-id-1 input.sk-toggleable__control:checked~div.sk-toggleable__content {max-height: 200px;max-width: 100%;overflow: auto;}#sk-container-id-1 input.sk-toggleable__control:checked~label.sk-toggleable__label-arrow:before {content: \"▾\";}#sk-container-id-1 div.sk-estimator input.sk-toggleable__control:checked~label.sk-toggleable__label {background-color: #d4ebff;}#sk-container-id-1 div.sk-label input.sk-toggleable__control:checked~label.sk-toggleable__label {background-color: #d4ebff;}#sk-container-id-1 input.sk-hidden--visually {border: 0;clip: rect(1px 1px 1px 1px);clip: rect(1px, 1px, 1px, 1px);height: 1px;margin: -1px;overflow: hidden;padding: 0;position: absolute;width: 1px;}#sk-container-id-1 div.sk-estimator {font-family: monospace;background-color: #f0f8ff;border: 1px dotted black;border-radius: 0.25em;box-sizing: border-box;margin-bottom: 0.5em;}#sk-container-id-1 div.sk-estimator:hover {background-color: #d4ebff;}#sk-container-id-1 div.sk-parallel-item::after {content: \"\";width: 100%;border-bottom: 1px solid gray;flex-grow: 1;}#sk-container-id-1 div.sk-label:hover label.sk-toggleable__label {background-color: #d4ebff;}#sk-container-id-1 div.sk-serial::before {content: \"\";position: absolute;border-left: 1px solid gray;box-sizing: border-box;top: 0;bottom: 0;left: 50%;z-index: 0;}#sk-container-id-1 div.sk-serial {display: flex;flex-direction: column;align-items: center;background-color: white;padding-right: 0.2em;padding-left: 0.2em;position: relative;}#sk-container-id-1 div.sk-item {position: relative;z-index: 1;}#sk-container-id-1 div.sk-parallel {display: flex;align-items: stretch;justify-content: center;background-color: white;position: relative;}#sk-container-id-1 div.sk-item::before, #sk-container-id-1 div.sk-parallel-item::before {content: \"\";position: absolute;border-left: 1px solid gray;box-sizing: border-box;top: 0;bottom: 0;left: 50%;z-index: -1;}#sk-container-id-1 div.sk-parallel-item {display: flex;flex-direction: column;z-index: 1;position: relative;background-color: white;}#sk-container-id-1 div.sk-parallel-item:first-child::after {align-self: flex-end;width: 50%;}#sk-container-id-1 div.sk-parallel-item:last-child::after {align-self: flex-start;width: 50%;}#sk-container-id-1 div.sk-parallel-item:only-child::after {width: 0;}#sk-container-id-1 div.sk-dashed-wrapped {border: 1px dashed gray;margin: 0 0.4em 0.5em 0.4em;box-sizing: border-box;padding-bottom: 0.4em;background-color: white;}#sk-container-id-1 div.sk-label label {font-family: monospace;font-weight: bold;display: inline-block;line-height: 1.2em;}#sk-container-id-1 div.sk-label-container {text-align: center;}#sk-container-id-1 div.sk-container {/* jupyter's `normalize.less` sets `[hidden] { display: none; }` but bootstrap.min.css set `[hidden] { display: none !important; }` so we also need the `!important` here to be able to override the default hidden behavior on the sphinx rendered scikit-learn.org. See: https://github.com/scikit-learn/scikit-learn/issues/21755 */display: inline-block !important;position: relative;}#sk-container-id-1 div.sk-text-repr-fallback {display: none;}</style><div id=\"sk-container-id-1\" class=\"sk-top-container\"><div class=\"sk-text-repr-fallback\"><pre>MultinomialNB(alpha=0.01)</pre><b>In a Jupyter environment, please rerun this cell to show the HTML representation or trust the notebook. <br />On GitHub, the HTML representation is unable to render, please try loading this page with nbviewer.org.</b></div><div class=\"sk-container\" hidden><div class=\"sk-item\"><div class=\"sk-estimator sk-toggleable\"><input class=\"sk-toggleable__control sk-hidden--visually\" id=\"sk-estimator-id-1\" type=\"checkbox\" checked><label for=\"sk-estimator-id-1\" class=\"sk-toggleable__label sk-toggleable__label-arrow\">MultinomialNB</label><div class=\"sk-toggleable__content\"><pre>MultinomialNB(alpha=0.01)</pre></div></div></div></div></div>"
            ]
          },
          "metadata": {},
          "execution_count": 37
        }
      ],
      "source": [
        "clf = MultinomialNB(alpha=0.01)\n",
        "clf.fit(X_train, y_train)"
      ]
    },
    {
      "cell_type": "code",
      "execution_count": null,
      "metadata": {
        "id": "VZKvbCM5Fspj",
        "colab": {
          "base_uri": "https://localhost:8080/"
        },
        "outputId": "a2057d04-fe02-4976-bc38-27811fe8599e"
      },
      "outputs": [
        {
          "output_type": "stream",
          "name": "stdout",
          "text": [
            "              precision    recall  f1-score   support\n",
            "\n",
            "           0       0.93      0.98      0.95      7543\n",
            "           1       0.99      0.96      0.97     15083\n",
            "\n",
            "    accuracy                           0.97     22626\n",
            "   macro avg       0.96      0.97      0.96     22626\n",
            "weighted avg       0.97      0.97      0.97     22626\n",
            "\n"
          ]
        }
      ],
      "source": [
        "from sklearn.metrics import classification_report\n",
        "y_pred_NB = clf.predict(X_test)\n",
        "print(classification_report(y_test, y_pred_NB))"
      ]
    },
    {
      "cell_type": "code",
      "execution_count": null,
      "metadata": {
        "id": "FFp77dM_Ga4i",
        "colab": {
          "base_uri": "https://localhost:8080/"
        },
        "outputId": "aeeb98a4-d27d-4da7-a8a2-cc184d14538d"
      },
      "outputs": [
        {
          "output_type": "stream",
          "name": "stdout",
          "text": [
            "Precision = 0.9567490829469167\n",
            "recall = 0.9688082213589819\n",
            "fscore = 0.9623284197796609\n"
          ]
        }
      ],
      "source": [
        "from sklearn.metrics import precision_recall_fscore_support\n",
        "precision, recall, fscore, support = precision_recall_fscore_support(y_test, y_pred_NB, average='macro')\n",
        "print(\"Precision =\", precision)\n",
        "print(\"recall =\", recall)\n",
        "print(\"fscore =\", fscore)"
      ]
    },
    {
      "cell_type": "code",
      "execution_count": null,
      "metadata": {
        "id": "QeoBi0RYq80z",
        "colab": {
          "base_uri": "https://localhost:8080/"
        },
        "outputId": "06ce6d17-0cd5-4d63-e9aa-30f22e9cd84a"
      },
      "outputs": [
        {
          "output_type": "stream",
          "name": "stdout",
          "text": [
            "Accuracy model Naive Bayes 96.61 %\n"
          ]
        }
      ],
      "source": [
        "print('Accuracy model Naive Bayes %0.2f' % (accuracy_score(y_test, y_pred_NB)*100), '%')"
      ]
    },
    {
      "cell_type": "markdown",
      "metadata": {
        "id": "gpCOJKwJ_W80"
      },
      "source": [
        "Note accuracy:\n",
        "1. With Post Tagging + Tf-Idf = 93.80%\n",
        "2. Without Post Tagging + Tf-idf = 97.04%\n",
        "3. With Post Tagging + With NER + tanpa Tf-Idf = 96.47 %\n",
        "4. With Post Tagging + With NER + Tf-Idf = 96.88%"
      ]
    },
    {
      "cell_type": "markdown",
      "metadata": {
        "id": "qQ4qV7WzIeX0"
      },
      "source": [
        "# Using Decision tree"
      ]
    },
    {
      "cell_type": "code",
      "execution_count": null,
      "metadata": {
        "id": "F2pRF9M5IhUT"
      },
      "outputs": [],
      "source": [
        "clf = tree.DecisionTreeClassifier()\n",
        "clf = clf.fit(X_train, y_train)"
      ]
    },
    {
      "cell_type": "code",
      "execution_count": null,
      "metadata": {
        "id": "hCvQMJPoIreA",
        "colab": {
          "base_uri": "https://localhost:8080/"
        },
        "outputId": "88ef9f29-c757-4a41-dad9-ed29042be39d"
      },
      "outputs": [
        {
          "output_type": "stream",
          "name": "stdout",
          "text": [
            "              precision    recall  f1-score   support\n",
            "\n",
            "           0       0.91      0.94      0.93      7543\n",
            "           1       0.97      0.95      0.96     15083\n",
            "\n",
            "    accuracy                           0.95     22626\n",
            "   macro avg       0.94      0.95      0.94     22626\n",
            "weighted avg       0.95      0.95      0.95     22626\n",
            "\n"
          ]
        }
      ],
      "source": [
        "from sklearn.metrics import classification_report\n",
        "y_pred_DT = clf.predict(X_test)\n",
        "print(classification_report(y_test, y_pred_DT))"
      ]
    },
    {
      "cell_type": "code",
      "execution_count": null,
      "metadata": {
        "id": "lJEjNB70Is8v",
        "colab": {
          "base_uri": "https://localhost:8080/"
        },
        "outputId": "233b8462-25f9-4a4f-9551-e9170521f9e3"
      },
      "outputs": [
        {
          "output_type": "stream",
          "name": "stdout",
          "text": [
            "Precision = 0.9396725230025901\n",
            "recall = 0.947231167354154\n",
            "fscore = 0.9432709286579462\n"
          ]
        }
      ],
      "source": [
        "from sklearn.metrics import precision_recall_fscore_support\n",
        "precision, recall, fscore, support = precision_recall_fscore_support(y_test, y_pred_DT, average='macro')\n",
        "print(\"Precision =\", precision)\n",
        "print(\"recall =\", recall)\n",
        "print(\"fscore =\", fscore)"
      ]
    },
    {
      "cell_type": "code",
      "execution_count": null,
      "metadata": {
        "id": "fg_pxCSjreqj",
        "colab": {
          "base_uri": "https://localhost:8080/"
        },
        "outputId": "c0292bea-016b-4f96-b4d7-b6c999ac9553"
      },
      "outputs": [
        {
          "output_type": "stream",
          "name": "stdout",
          "text": [
            "Accuracy model Decession Tree 94.91 %\n"
          ]
        }
      ],
      "source": [
        "print('Accuracy model Decession Tree %0.2f' % (accuracy_score(y_test, y_pred_DT)*100), '%')"
      ]
    },
    {
      "cell_type": "markdown",
      "metadata": {
        "id": "WPMKARpq_Z6M"
      },
      "source": [
        "Note accuracy:\n",
        "1. With Post Tagging + Tf-Idf = 94.91%\n",
        "2. Without Post Tagging + Tf-idf = 95.64%\n",
        "3. With Post Tagging + With NER + tanpa Tf-Idf = 94.70 %\n",
        "4. With Post Tagging + With NER + Tf-Idf = 95.63%"
      ]
    },
    {
      "cell_type": "markdown",
      "metadata": {
        "id": "Hw3TAsr8IuXb"
      },
      "source": [
        "# Using Random Forest"
      ]
    },
    {
      "cell_type": "code",
      "execution_count": null,
      "metadata": {
        "id": "AjE5M9G8I7gq"
      },
      "outputs": [],
      "source": [
        "clf = RandomForestClassifier(n_estimators=10)\n",
        "clf = clf.fit(X_train, y_train)"
      ]
    },
    {
      "cell_type": "code",
      "execution_count": null,
      "metadata": {
        "id": "5gZ6y-Q3I_DL",
        "colab": {
          "base_uri": "https://localhost:8080/"
        },
        "outputId": "f5df3f6b-b72b-416c-86a1-67559df530c0"
      },
      "outputs": [
        {
          "output_type": "stream",
          "name": "stdout",
          "text": [
            "              precision    recall  f1-score   support\n",
            "\n",
            "           0       0.87      0.97      0.92      7543\n",
            "           1       0.98      0.93      0.95     15083\n",
            "\n",
            "    accuracy                           0.94     22626\n",
            "   macro avg       0.93      0.95      0.94     22626\n",
            "weighted avg       0.95      0.94      0.94     22626\n",
            "\n"
          ]
        }
      ],
      "source": [
        "from sklearn.metrics import classification_report\n",
        "y_pred_RF = clf.predict(X_test)\n",
        "print(classification_report(y_test, y_pred_RF))"
      ]
    },
    {
      "cell_type": "code",
      "execution_count": null,
      "metadata": {
        "id": "LdaIbkHrJAZj",
        "colab": {
          "base_uri": "https://localhost:8080/"
        },
        "outputId": "418a5d19-98ff-42b3-f407-d7f81c657318"
      },
      "outputs": [
        {
          "output_type": "stream",
          "name": "stdout",
          "text": [
            "Precision = 0.9265696957105056\n",
            "recall = 0.9477589684948816\n",
            "fscore = 0.9354787693396177\n"
          ]
        }
      ],
      "source": [
        "from sklearn.metrics import precision_recall_fscore_support\n",
        "precision, recall, fscore, support = precision_recall_fscore_support(y_test, y_pred_RF, average='macro')\n",
        "print(\"Precision =\", precision)\n",
        "print(\"recall =\", recall)\n",
        "print(\"fscore =\", fscore)"
      ]
    },
    {
      "cell_type": "code",
      "execution_count": null,
      "metadata": {
        "id": "z0vsGpXzseSx",
        "colab": {
          "base_uri": "https://localhost:8080/"
        },
        "outputId": "bb4a4fa6-2c8b-4822-9eed-431856dee674"
      },
      "outputs": [
        {
          "output_type": "stream",
          "name": "stdout",
          "text": [
            "Accuracy model Random Forest 94.11 %\n"
          ]
        }
      ],
      "source": [
        "print('Accuracy model Random Forest %0.2f' % (accuracy_score(y_test, y_pred_RF)*100), '%')"
      ]
    },
    {
      "cell_type": "markdown",
      "metadata": {
        "id": "N9-sZbBS_bvz"
      },
      "source": [
        "Note accuracy:\n",
        "1. With Post Tagging + Tf-Idf = 94.11%\n",
        "2. Without Post Tagging + Tf-idf = 96.42%\n",
        "3. With Post Tagging + With NER + tanpa Tf-Idf = 93.86%\n",
        "4. With Post Tagging + With NER + Tf-Idf = 96.22%"
      ]
    },
    {
      "cell_type": "markdown",
      "metadata": {
        "id": "1WyJpZiXKEBZ"
      },
      "source": [
        "# Using AdaBoost"
      ]
    },
    {
      "cell_type": "code",
      "execution_count": null,
      "metadata": {
        "id": "8l6HZuzMKGfK"
      },
      "outputs": [],
      "source": [
        "clf = AdaBoostClassifier(n_estimators=50)\n",
        "clf = clf.fit(X_train, y_train)"
      ]
    },
    {
      "cell_type": "code",
      "execution_count": null,
      "metadata": {
        "id": "G6w9haNgKJFy",
        "colab": {
          "base_uri": "https://localhost:8080/"
        },
        "outputId": "19eeb6e0-ad0b-4010-c738-39df0ac2da9e"
      },
      "outputs": [
        {
          "output_type": "stream",
          "name": "stdout",
          "text": [
            "              precision    recall  f1-score   support\n",
            "\n",
            "           0       0.94      0.65      0.77      7543\n",
            "           1       0.85      0.98      0.91     15083\n",
            "\n",
            "    accuracy                           0.87     22626\n",
            "   macro avg       0.90      0.82      0.84     22626\n",
            "weighted avg       0.88      0.87      0.86     22626\n",
            "\n"
          ]
        }
      ],
      "source": [
        "from sklearn.metrics import classification_report\n",
        "y_pred_AB = clf.predict(X_test)\n",
        "print(classification_report(y_test, y_pred_AB))"
      ]
    },
    {
      "cell_type": "code",
      "execution_count": null,
      "metadata": {
        "id": "JNDhs9rTKSjJ",
        "colab": {
          "base_uri": "https://localhost:8080/"
        },
        "outputId": "f3225804-2596-43a1-e9ac-e89ec5568ac8"
      },
      "outputs": [
        {
          "output_type": "stream",
          "name": "stdout",
          "text": [
            "Precision = 0.8965317196052516\n",
            "recall = 0.8159532719166065\n",
            "fscore = 0.8404302556597381\n"
          ]
        }
      ],
      "source": [
        "from sklearn.metrics import precision_recall_fscore_support\n",
        "precision, recall, fscore, support = precision_recall_fscore_support(y_test, y_pred_AB, average='macro')\n",
        "print(\"Precision =\", precision)\n",
        "print(\"recall =\", recall)\n",
        "print(\"fscore =\", fscore)"
      ]
    },
    {
      "cell_type": "code",
      "execution_count": null,
      "metadata": {
        "id": "R_pPeudWtDoi",
        "colab": {
          "base_uri": "https://localhost:8080/"
        },
        "outputId": "42c0e45d-ed74-436d-f15b-57bbbfc14ee7"
      },
      "outputs": [
        {
          "output_type": "stream",
          "name": "stdout",
          "text": [
            "Accuracy model Ada Boost 87.09 %\n"
          ]
        }
      ],
      "source": [
        "print('Accuracy model Ada Boost %0.2f' % (accuracy_score(y_test, y_pred_AB)*100), '%')"
      ]
    },
    {
      "cell_type": "markdown",
      "metadata": {
        "id": "hZW5h3rV_kUv"
      },
      "source": [
        "Note accuracy:\n",
        "1. With Post Tagging + Tf-Idf = 87.09%\n",
        "2. Without Post Tagging + Tf-idf = 88.44%\n",
        "3. With Post Tagging + With NER + tanpa Tf-Idf = 88.17%\n",
        "4. With Post Tagging + With NER + Tf-Idf = 88.91%"
      ]
    },
    {
      "cell_type": "markdown",
      "metadata": {
        "id": "xC6sdV5NKsaN"
      },
      "source": [
        "# Using Baging"
      ]
    },
    {
      "cell_type": "code",
      "execution_count": 22,
      "metadata": {
        "id": "V9Jrhis4LGe7",
        "colab": {
          "base_uri": "https://localhost:8080/",
          "height": 117
        },
        "outputId": "3065e231-25db-4dcc-f9b4-b9941ea4fbfe"
      },
      "outputs": [
        {
          "output_type": "execute_result",
          "data": {
            "text/plain": [
              "BaggingClassifier(estimator=DecisionTreeClassifier())"
            ],
            "text/html": [
              "<style>#sk-container-id-1 {color: black;background-color: white;}#sk-container-id-1 pre{padding: 0;}#sk-container-id-1 div.sk-toggleable {background-color: white;}#sk-container-id-1 label.sk-toggleable__label {cursor: pointer;display: block;width: 100%;margin-bottom: 0;padding: 0.3em;box-sizing: border-box;text-align: center;}#sk-container-id-1 label.sk-toggleable__label-arrow:before {content: \"▸\";float: left;margin-right: 0.25em;color: #696969;}#sk-container-id-1 label.sk-toggleable__label-arrow:hover:before {color: black;}#sk-container-id-1 div.sk-estimator:hover label.sk-toggleable__label-arrow:before {color: black;}#sk-container-id-1 div.sk-toggleable__content {max-height: 0;max-width: 0;overflow: hidden;text-align: left;background-color: #f0f8ff;}#sk-container-id-1 div.sk-toggleable__content pre {margin: 0.2em;color: black;border-radius: 0.25em;background-color: #f0f8ff;}#sk-container-id-1 input.sk-toggleable__control:checked~div.sk-toggleable__content {max-height: 200px;max-width: 100%;overflow: auto;}#sk-container-id-1 input.sk-toggleable__control:checked~label.sk-toggleable__label-arrow:before {content: \"▾\";}#sk-container-id-1 div.sk-estimator input.sk-toggleable__control:checked~label.sk-toggleable__label {background-color: #d4ebff;}#sk-container-id-1 div.sk-label input.sk-toggleable__control:checked~label.sk-toggleable__label {background-color: #d4ebff;}#sk-container-id-1 input.sk-hidden--visually {border: 0;clip: rect(1px 1px 1px 1px);clip: rect(1px, 1px, 1px, 1px);height: 1px;margin: -1px;overflow: hidden;padding: 0;position: absolute;width: 1px;}#sk-container-id-1 div.sk-estimator {font-family: monospace;background-color: #f0f8ff;border: 1px dotted black;border-radius: 0.25em;box-sizing: border-box;margin-bottom: 0.5em;}#sk-container-id-1 div.sk-estimator:hover {background-color: #d4ebff;}#sk-container-id-1 div.sk-parallel-item::after {content: \"\";width: 100%;border-bottom: 1px solid gray;flex-grow: 1;}#sk-container-id-1 div.sk-label:hover label.sk-toggleable__label {background-color: #d4ebff;}#sk-container-id-1 div.sk-serial::before {content: \"\";position: absolute;border-left: 1px solid gray;box-sizing: border-box;top: 0;bottom: 0;left: 50%;z-index: 0;}#sk-container-id-1 div.sk-serial {display: flex;flex-direction: column;align-items: center;background-color: white;padding-right: 0.2em;padding-left: 0.2em;position: relative;}#sk-container-id-1 div.sk-item {position: relative;z-index: 1;}#sk-container-id-1 div.sk-parallel {display: flex;align-items: stretch;justify-content: center;background-color: white;position: relative;}#sk-container-id-1 div.sk-item::before, #sk-container-id-1 div.sk-parallel-item::before {content: \"\";position: absolute;border-left: 1px solid gray;box-sizing: border-box;top: 0;bottom: 0;left: 50%;z-index: -1;}#sk-container-id-1 div.sk-parallel-item {display: flex;flex-direction: column;z-index: 1;position: relative;background-color: white;}#sk-container-id-1 div.sk-parallel-item:first-child::after {align-self: flex-end;width: 50%;}#sk-container-id-1 div.sk-parallel-item:last-child::after {align-self: flex-start;width: 50%;}#sk-container-id-1 div.sk-parallel-item:only-child::after {width: 0;}#sk-container-id-1 div.sk-dashed-wrapped {border: 1px dashed gray;margin: 0 0.4em 0.5em 0.4em;box-sizing: border-box;padding-bottom: 0.4em;background-color: white;}#sk-container-id-1 div.sk-label label {font-family: monospace;font-weight: bold;display: inline-block;line-height: 1.2em;}#sk-container-id-1 div.sk-label-container {text-align: center;}#sk-container-id-1 div.sk-container {/* jupyter's `normalize.less` sets `[hidden] { display: none; }` but bootstrap.min.css set `[hidden] { display: none !important; }` so we also need the `!important` here to be able to override the default hidden behavior on the sphinx rendered scikit-learn.org. See: https://github.com/scikit-learn/scikit-learn/issues/21755 */display: inline-block !important;position: relative;}#sk-container-id-1 div.sk-text-repr-fallback {display: none;}</style><div id=\"sk-container-id-1\" class=\"sk-top-container\"><div class=\"sk-text-repr-fallback\"><pre>BaggingClassifier(estimator=DecisionTreeClassifier())</pre><b>In a Jupyter environment, please rerun this cell to show the HTML representation or trust the notebook. <br />On GitHub, the HTML representation is unable to render, please try loading this page with nbviewer.org.</b></div><div class=\"sk-container\" hidden><div class=\"sk-item sk-dashed-wrapped\"><div class=\"sk-label-container\"><div class=\"sk-label sk-toggleable\"><input class=\"sk-toggleable__control sk-hidden--visually\" id=\"sk-estimator-id-1\" type=\"checkbox\" ><label for=\"sk-estimator-id-1\" class=\"sk-toggleable__label sk-toggleable__label-arrow\">BaggingClassifier</label><div class=\"sk-toggleable__content\"><pre>BaggingClassifier(estimator=DecisionTreeClassifier())</pre></div></div></div><div class=\"sk-parallel\"><div class=\"sk-parallel-item\"><div class=\"sk-item\"><div class=\"sk-label-container\"><div class=\"sk-label sk-toggleable\"><input class=\"sk-toggleable__control sk-hidden--visually\" id=\"sk-estimator-id-2\" type=\"checkbox\" ><label for=\"sk-estimator-id-2\" class=\"sk-toggleable__label sk-toggleable__label-arrow\">estimator: DecisionTreeClassifier</label><div class=\"sk-toggleable__content\"><pre>DecisionTreeClassifier()</pre></div></div></div><div class=\"sk-serial\"><div class=\"sk-item\"><div class=\"sk-estimator sk-toggleable\"><input class=\"sk-toggleable__control sk-hidden--visually\" id=\"sk-estimator-id-3\" type=\"checkbox\" ><label for=\"sk-estimator-id-3\" class=\"sk-toggleable__label sk-toggleable__label-arrow\">DecisionTreeClassifier</label><div class=\"sk-toggleable__content\"><pre>DecisionTreeClassifier()</pre></div></div></div></div></div></div></div></div></div></div>"
            ]
          },
          "metadata": {},
          "execution_count": 22
        }
      ],
      "source": [
        "base_classifier = DecisionTreeClassifier()\n",
        "clf = BaggingClassifier(estimator=base_classifier, n_estimators=10)\n",
        "\n",
        "clf.fit(X_train, y_train)"
      ]
    },
    {
      "cell_type": "code",
      "execution_count": 23,
      "metadata": {
        "id": "WGtD3ZU2LmKz",
        "colab": {
          "base_uri": "https://localhost:8080/"
        },
        "outputId": "03b9065d-9edf-4de2-8f91-3e97f57d9b90"
      },
      "outputs": [
        {
          "output_type": "stream",
          "name": "stdout",
          "text": [
            "              precision    recall  f1-score   support\n",
            "\n",
            "           0       0.94      0.96      0.95      7543\n",
            "           1       0.98      0.97      0.97     15083\n",
            "\n",
            "    accuracy                           0.96     22626\n",
            "   macro avg       0.96      0.96      0.96     22626\n",
            "weighted avg       0.96      0.96      0.96     22626\n",
            "\n"
          ]
        }
      ],
      "source": [
        "from sklearn.metrics import classification_report\n",
        "y_pred_Bagging = clf.predict(X_test)\n",
        "print(classification_report(y_test, y_pred_Bagging))"
      ]
    },
    {
      "cell_type": "code",
      "execution_count": 24,
      "metadata": {
        "id": "LR6IFu1qLnib",
        "colab": {
          "base_uri": "https://localhost:8080/"
        },
        "outputId": "0b821637-b74e-4ed1-dd37-19285f212c55"
      },
      "outputs": [
        {
          "output_type": "stream",
          "name": "stdout",
          "text": [
            "Precision = 0.9570267866931408\n",
            "recall = 0.9616831015273312\n",
            "fscore = 0.9592914489361123\n"
          ]
        }
      ],
      "source": [
        "from sklearn.metrics import precision_recall_fscore_support\n",
        "precision, recall, fscore, support = precision_recall_fscore_support(y_test, y_pred_Bagging, average='macro')\n",
        "print(\"Precision =\", precision)\n",
        "print(\"recall =\", recall)\n",
        "print(\"fscore =\", fscore)"
      ]
    },
    {
      "cell_type": "code",
      "execution_count": 25,
      "metadata": {
        "id": "DjEB9PmFtLw0",
        "colab": {
          "base_uri": "https://localhost:8080/"
        },
        "outputId": "aaf0f613-45ca-46b9-c301-73e4e22df0b1"
      },
      "outputs": [
        {
          "output_type": "stream",
          "name": "stdout",
          "text": [
            "Accuracy model Baging 96.36 %\n"
          ]
        }
      ],
      "source": [
        "print('Accuracy model Baging %0.2f' % (accuracy_score(y_test, y_pred_Bagging)*100), '%')"
      ]
    },
    {
      "cell_type": "markdown",
      "metadata": {
        "id": "9PS19FTh_lyv"
      },
      "source": [
        "Note accuracy:\n",
        "1. With Post Tagging + Tf-Idf = 95.36%\n",
        "2. Without Post Tagging + Tf-idf = 96.36%\n",
        "3. With Post Tagging + With NER + tanpa Tf-Idf = 95.35%\n",
        "4. With Post Tagging + With NER + Tf-Idf = 96.29%"
      ]
    }
  ],
  "metadata": {
    "accelerator": "GPU",
    "colab": {
      "gpuType": "T4",
      "provenance": []
    },
    "kernelspec": {
      "display_name": "Python 3",
      "name": "python3"
    },
    "language_info": {
      "codemirror_mode": {
        "name": "ipython",
        "version": 3
      },
      "file_extension": ".py",
      "mimetype": "text/x-python",
      "name": "python",
      "nbconvert_exporter": "python",
      "pygments_lexer": "ipython3",
      "version": "3.10.9"
    }
  },
  "nbformat": 4,
  "nbformat_minor": 0
}